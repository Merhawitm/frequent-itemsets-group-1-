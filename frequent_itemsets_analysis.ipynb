{
 "cells": [
  {
   "cell_type": "code",
   "execution_count": null,
   "id": "4a4bcc3c",
   "metadata": {},
   "outputs": [
    {
     "name": "stdout",
     "output_type": "stream",
     "text": [
      "Error: The file 'Groceries_dataset.csv' was not found.\n",
      "Please download 'Groceries_dataset.csv' from https://www.kaggle.com/datasets/balajikartheek/groceries-dataset\n",
      "and place it in the correct directory.\n"
     ]
    },
    {
     "ename": "",
     "evalue": "",
     "output_type": "error",
     "traceback": [
      "\u001b[1;31mThe Kernel crashed while executing code in the current cell or a previous cell. \n",
      "\u001b[1;31mPlease review the code in the cell(s) to identify a possible cause of the failure. \n",
      "\u001b[1;31mClick <a href='https://aka.ms/vscodeJupyterKernelCrash'>here</a> for more info. \n",
      "\u001b[1;31mView Jupyter <a href='command:jupyter.viewOutput'>log</a> for further details."
     ]
    }
   ],
   "source": [
    "# [Student: Your Name 1, Student: Your Name 2, etc.] Import necessary libraries\n",
    "import pandas as pd\n",
    "import numpy as np\n",
    "import random\n",
    "\n",
    "# --- Part B: Technical Tasks ---\n",
    "\n",
    "# --- 1. Simulate Transaction Data (Revised) ---\n",
    "\n",
    "# [Student: Your Name] Define the path to the Groceries dataset CSV file\n",
    "# Ensure 'Groceries_dataset.csv' is in the same directory as your script/notebook.\n",
    "data_path = 'Groceries_dataset.csv'\n",
    "\n",
    "# [Student: Your Name] Load the dataset into a pandas DataFrame\n",
    "# The dataset has columns: 'Member_number', 'Date', 'itemDescription'.\n",
    "try:\n",
    "    df_raw = pd.read_csv(data_path)\n",
    "    # [Student: Your Name] Display the first few rows and info of the raw data to confirm its structure\n",
    "    print(\"--- Raw Groceries Data Head ---\")\n",
    "    print(df_raw.head())\n",
    "    print(\"\\n--- Raw Groceries Data Info ---\")\n",
    "    df_raw.info()\n",
    "except FileNotFoundError:\n",
    "    print(f\"Error: The file '{data_path}' was not found.\")\n",
    "    print(\"Please download 'Groceries_dataset.csv' from https://www.kaggle.com/datasets/balajikartheek/groceries-dataset\")\n",
    "    print(\"and place it in the correct directory.\")\n",
    "    # [Student: Your Name] Exit the script if the file is not found\n",
    "    exit()"
   ]
  }
 ],
 "metadata": {
  "kernelspec": {
   "display_name": "base",
   "language": "python",
   "name": "python3"
  },
  "language_info": {
   "codemirror_mode": {
    "name": "ipython",
    "version": 3
   },
   "file_extension": ".py",
   "mimetype": "text/x-python",
   "name": "python",
   "nbconvert_exporter": "python",
   "pygments_lexer": "ipython3",
   "version": "3.11.7"
  }
 },
 "nbformat": 4,
 "nbformat_minor": 5
}
