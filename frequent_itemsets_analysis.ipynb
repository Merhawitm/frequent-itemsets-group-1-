{
 "cells": [
  {
   "cell_type": "code",
   "execution_count": null,
   "id": "4a4bcc3c",
   "metadata": {},
   "outputs": [
    {
     "name": "stdout",
     "output_type": "stream",
     "text": [
      "--- Raw Groceries Data Head ---\n",
      "   Member_number        Date   itemDescription\n",
      "0           1808  21-07-2015    tropical fruit\n",
      "1           2552  05-01-2015        whole milk\n",
      "2           2300  19-09-2015         pip fruit\n",
      "3           1187  12-12-2015  other vegetables\n",
      "4           3037  01-02-2015        whole milk\n",
      "\n",
      "--- Raw Groceries Data Info ---\n",
      "<class 'pandas.core.frame.DataFrame'>\n",
      "RangeIndex: 38765 entries, 0 to 38764\n",
      "Data columns (total 3 columns):\n",
      " #   Column           Non-Null Count  Dtype \n",
      "---  ------           --------------  ----- \n",
      " 0   Member_number    38765 non-null  int64 \n",
      " 1   Date             38765 non-null  object\n",
      " 2   itemDescription  38765 non-null  object\n",
      "dtypes: int64(1), object(2)\n",
      "memory usage: 908.7+ KB\n"
     ]
    }
   ],
   "source": [
    "# [Student: Merhawit, Student: Your Name 2, etc.] Import necessary libraries\n",
    "import pandas as pd\n",
    "import numpy as np\n",
    "import random\n",
    "\n",
    "# --- Part B: Technical Tasks ---\n",
    "\n",
    "# --- 1. Simulate Transaction Data (Revised) ---\n",
    "\n",
    "# [Student: Your Name] Define the path to the Groceries dataset CSV file\n",
    "# Ensure 'Groceries_dataset.csv' is in the same directory as your script/notebook.\n",
    "data_path = 'Groceries_dataset.csv'\n",
    "\n",
    "# [Student: Your Name] Load the dataset into a pandas DataFrame\n",
    "# The dataset has columns: 'Member_number', 'Date', 'itemDescription'.\n",
    "try:\n",
    "    df_raw = pd.read_csv(data_path)\n",
    "    # [Student: Your Name] Display the first few rows and info of the raw data to confirm its structure\n",
    "    print(\"--- Raw Groceries Data Head ---\")\n",
    "    print(df_raw.head())\n",
    "    print(\"\\n--- Raw Groceries Data Info ---\")\n",
    "    df_raw.info()\n",
    "except FileNotFoundError:\n",
    "    print(f\"Error: The file '{data_path}' was not found.\")\n",
    "    print(\"Please download 'Groceries_dataset.csv' from https://www.kaggle.com/datasets/balajikartheek/groceries-dataset\")\n",
    "    print(\"and place it in the correct directory.\")\n",
    "    # [Student: Your Name] Exit the script if the file is not found\n",
    "    exit()"
   ]
  }
 ],
 "metadata": {
  "kernelspec": {
   "display_name": "base",
   "language": "python",
   "name": "python3"
  },
  "language_info": {
   "codemirror_mode": {
    "name": "ipython",
    "version": 3
   },
   "file_extension": ".py",
   "mimetype": "text/x-python",
   "name": "python",
   "nbconvert_exporter": "python",
   "pygments_lexer": "ipython3",
   "version": "3.11.7"
  }
 },
 "nbformat": 4,
 "nbformat_minor": 5
}
